{
 "cells": [
  {
   "cell_type": "code",
   "execution_count": 9,
   "id": "23395737-5df9-4727-8b82-b32114df465b",
   "metadata": {
    "tags": []
   },
   "outputs": [
    {
     "data": {
      "text/plain": [
       "([5, 17, 37, 65, 101, 145, 197, 257, 325, 401, 485, 577, 677, 785, 901],\n",
       " [7, 21, 43, 73, 111, 157, 211, 273, 343, 421, 507, 601, 703, 813, 931],\n",
       " [2, 10, 26, 50, 82, 122, 170, 226, 290, 362, 442, 530, 626, 730, 842],\n",
       " [3, 13, 31, 57, 91, 133, 183, 241, 307, 381, 463, 553, 651, 757, 871])"
      ]
     },
     "execution_count": 9,
     "metadata": {},
     "output_type": "execute_result"
    }
   ],
   "source": [
    "# Since we had an issue with the previous code execution, we'll define the functions again\n",
    "# and calculate the turning points for DL (even n), DR (odd n), and UR (odd n).\n",
    "\n",
    "# Define the function to calculate the UL turning points\n",
    "def calculate_UL_turning_points(max_n):\n",
    "    # Initialize the list of turning points\n",
    "    turning_points = []\n",
    "    \n",
    "    # Iterate over the range of numbers to find the turning points for even n\n",
    "    for n in range(2, max_n + 1, 2):\n",
    "        turning_point = n**2 + 1\n",
    "        turning_points.append(turning_point)\n",
    "        \n",
    "    return turning_points\n",
    "\n",
    "# Define the function to calculate the DL turning points for even n\n",
    "def calculate_DL_turning_points(max_n):\n",
    "    # Initialize the list of turning points\n",
    "    turning_points = []\n",
    "    \n",
    "    # Iterate over the range of even numbers to find the turning points\n",
    "    for n in range(2, max_n + 1, 2):\n",
    "        turning_point = n * (n + 1) + 1\n",
    "        turning_points.append(turning_point)\n",
    "        \n",
    "    return turning_points\n",
    "\n",
    "# Define the function to calculate the DR turning points for odd n\n",
    "def calculate_DR_turning_points(max_n):\n",
    "    # Initialize the list of turning points\n",
    "    turning_points = []\n",
    "    \n",
    "    # Iterate over the range of odd numbers to find the turning points\n",
    "    for n in range(1, max_n + 1, 2):\n",
    "        turning_point = n**2 + 1\n",
    "        turning_points.append(turning_point)\n",
    "        \n",
    "    return turning_points\n",
    "\n",
    "# Define the function to calculate the UR turning points for odd n\n",
    "def calculate_UR_turning_points(max_n):\n",
    "    # Initialize the list of turning points\n",
    "    turning_points = []\n",
    "    \n",
    "    # Iterate over the range of odd numbers to find the turning points\n",
    "    for n in range(1, max_n + 1, 2):\n",
    "        turning_point = n * (n + 1) + 1\n",
    "        turning_points.append(turning_point)\n",
    "        \n",
    "    return turning_points\n",
    "\n",
    "# Calculate the turning points for DL (even n), DR (odd n), and UR (odd n)\n",
    "turning_points_UL = calculate_UL_turning_points(30)\n",
    "turning_points_DL = calculate_DL_turning_points(30)\n",
    "turning_points_DR = calculate_DR_turning_points(30)\n",
    "turning_points_UR = calculate_UR_turning_points(30)\n",
    "\n",
    "\n",
    "(turning_points_UL, turning_points_DL, turning_points_DR, turning_points_UR)\n"
   ]
  }
 ],
 "metadata": {
  "kernelspec": {
   "display_name": "Python 3 (ipykernel)",
   "language": "python",
   "name": "python3"
  },
  "language_info": {
   "codemirror_mode": {
    "name": "ipython",
    "version": 3
   },
   "file_extension": ".py",
   "mimetype": "text/x-python",
   "name": "python",
   "nbconvert_exporter": "python",
   "pygments_lexer": "ipython3",
   "version": "3.11.5"
  }
 },
 "nbformat": 4,
 "nbformat_minor": 5
}
