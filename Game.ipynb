{
 "cells": [
  {
   "cell_type": "code",
   "execution_count": 3,
   "id": "e77fab19-5d87-4927-92c6-12c6f59a7744",
   "metadata": {
    "tags": []
   },
   "outputs": [
    {
     "name": "stdout",
     "output_type": "stream",
     "text": [
      "[[0. 0. 0.]\n",
      " [0. 0. 0.]\n",
      " [0. 1. 2.]]\n"
     ]
    }
   ],
   "source": [
    "import numpy as np\n",
    "import random\n",
    "\n",
    "#Inisialise the matrix\n",
    "matrix = np.zeros((3, 3))\n",
    "\n",
    "# Randomly choose a starting point\n",
    "x, y = random.randint(0, 2), random.randint(0, 2)\n",
    "matrix[x][y] = 1  \n",
    "\n",
    "# Define the moving deriction\n",
    "moves = ['up', 'down', 'left', 'right']\n",
    "\n",
    "# randomly choose a direction\n",
    "move = random.choice(moves)\n",
    "\n",
    "# Define the function\n",
    "def make_move(x, y, move):\n",
    "    if move == 'up' and x > 0:\n",
    "        x -= 1\n",
    "    elif move == 'down' and x < 2:\n",
    "        x += 1\n",
    "    elif move == 'left' and y > 0:\n",
    "        y -= 1\n",
    "    elif move == 'right' and y < 2:\n",
    "        y += 1\n",
    "    return x, y\n",
    "\n",
    "# implementation\n",
    "x, y = make_move(x, y, move)\n",
    "\n",
    "\n",
    "if matrix[x][y] == 0:\n",
    "    matrix[x][y] = 2  \n",
    "\n",
    "print(matrix)\n"
   ]
  },
  {
   "cell_type": "code",
   "execution_count": null,
   "id": "ba3154d9-e6bc-42ce-a1cb-8606d60a7a03",
   "metadata": {},
   "outputs": [],
   "source": []
  }
 ],
 "metadata": {
  "kernelspec": {
   "display_name": "Python 3 (ipykernel)",
   "language": "python",
   "name": "python3"
  },
  "language_info": {
   "codemirror_mode": {
    "name": "ipython",
    "version": 3
   },
   "file_extension": ".py",
   "mimetype": "text/x-python",
   "name": "python",
   "nbconvert_exporter": "python",
   "pygments_lexer": "ipython3",
   "version": "3.11.5"
  }
 },
 "nbformat": 4,
 "nbformat_minor": 5
}
